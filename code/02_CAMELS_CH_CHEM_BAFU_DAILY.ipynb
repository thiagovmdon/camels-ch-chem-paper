{
 "cells": [
  {
   "cell_type": "markdown",
   "id": "46e94d6f",
   "metadata": {},
   "source": [
    "# Sensors dataset extraction\n",
    "\n",
    "Author: Thiago Nascimento (thiago.nascimento@eawag.ch)\n",
    "\n",
    "This notebook is used to retrieve and concatenate the BAFU dataset into hourly and daily resolutions. The output is one file per catchemnt (similar to the CAMELS_CH), with 5 columns: date, electric_cond(µS/cm), pH(-), temperature(°C) & oxygen_conc(mg/l)\n",
    "\n",
    "## Requirements\n",
    "**Python:**\n",
    "\n",
    "* Python>=3.6\n",
    "* Jupyter\n",
    "* geopandas=0.10.2\n",
    "* numpy\n",
    "* os\n",
    "* pandas=2.1.3\n",
    "* scipy=1.9.0\n",
    "* tqdm\n",
    "\n",
    "Check the Github repository for an environment.yml (for conda environments) or requirements.txt (pip) file.\n",
    "\n",
    "**Files:**\n",
    "\n",
    "* \n",
    "\n",
    "\n",
    "**Directory:**\n",
    "\n",
    "* Clone the GitHub directory locally\n",
    "* Place any third-data variables in their respective directory.\n",
    "* ONLY update the \"PATH\" variable in the section \"Configurations\", with their relative path to the EStreams directory. \n",
    "\n",
    "\n",
    "## References\n",
    "* \n",
    "## Observations\n",
    "* "
   ]
  },
  {
   "cell_type": "markdown",
   "id": "1f7648ab",
   "metadata": {},
   "source": [
    "# Import modules"
   ]
  },
  {
   "cell_type": "code",
   "execution_count": 1,
   "id": "04f6e053",
   "metadata": {},
   "outputs": [],
   "source": [
    "import pandas as pd\n",
    "import numpy as np\n",
    "import tqdm as tqdm\n",
    "import os\n",
    "import glob\n",
    "import warnings\n"
   ]
  },
  {
   "cell_type": "markdown",
   "id": "134a0050",
   "metadata": {},
   "source": [
    "# Configurations"
   ]
  },
  {
   "cell_type": "code",
   "execution_count": 2,
   "id": "ec3eb41f",
   "metadata": {},
   "outputs": [],
   "source": [
    "# Only editable variables:\n",
    "# Relative path to your local directory\n",
    "PATH = \"..\"\n",
    "# Suppress all warnings\n",
    "warnings.filterwarnings(\"ignore\")"
   ]
  },
  {
   "cell_type": "markdown",
   "id": "0b0c1c1e",
   "metadata": {},
   "source": [
    "* #### The users should NOT change anything in the code below here. "
   ]
  },
  {
   "cell_type": "code",
   "execution_count": 3,
   "id": "9d25b417",
   "metadata": {},
   "outputs": [],
   "source": [
    "# Non-editable variables:\n",
    "PATH_OUTPUT = r\"results\\stream_water_chemistry\\timeseries\"\n",
    "\n",
    "# Set the directory:\n",
    "os.chdir(PATH)"
   ]
  },
  {
   "cell_type": "code",
   "execution_count": 4,
   "id": "de91a7ee",
   "metadata": {},
   "outputs": [
    {
     "data": {
      "text/plain": [
       "'c:\\\\Users\\\\nascimth\\\\Documents\\\\Thiago\\\\Eawag\\\\Python\\\\Scripts\\\\CAMELS_CH_chem'"
      ]
     },
     "execution_count": 4,
     "metadata": {},
     "output_type": "execute_result"
    }
   ],
   "source": [
    "os.getcwd()"
   ]
  },
  {
   "cell_type": "markdown",
   "id": "8b54907f",
   "metadata": {},
   "source": [
    "# Import data\n",
    "* Sensors"
   ]
  },
  {
   "cell_type": "code",
   "execution_count": 5,
   "id": "ba96cbd3",
   "metadata": {},
   "outputs": [
    {
     "data": {
      "text/plain": [
       "423"
      ]
     },
     "execution_count": 5,
     "metadata": {},
     "output_type": "execute_result"
    }
   ],
   "source": [
    "# Full dataset\n",
    "path = r'data\\phys_daten_BAFU\\phys_daten_BAFU\\\\'\n",
    "\n",
    "filenames = glob.glob(path + \"*.csv\")\n",
    "len(filenames)"
   ]
  },
  {
   "cell_type": "markdown",
   "id": "c9b671e5",
   "metadata": {},
   "source": [
    "#### Hourly data\n",
    "* Electric conductivity"
   ]
  },
  {
   "cell_type": "code",
   "execution_count": 6,
   "id": "b6518bb2",
   "metadata": {},
   "outputs": [
    {
     "data": {
      "text/plain": [
       "19"
      ]
     },
     "execution_count": 6,
     "metadata": {},
     "output_type": "execute_result"
    }
   ],
   "source": [
    "# Define the two specific words you want to filter for\n",
    "word1 = 'Elektrische'\n",
    "word2 = 'Tagesmittel'\n",
    "\n",
    "# Filter CSV files based on whether their names contain both words\n",
    "electric_filenames = [file for file in filenames if (word1 in file) and (word2 in file)]\n",
    "len(electric_filenames)"
   ]
  },
  {
   "cell_type": "code",
   "execution_count": 14,
   "id": "6dfb9fb4",
   "metadata": {},
   "outputs": [
    {
     "data": {
      "text/plain": [
       "['data\\\\phys_daten_BAFU\\\\phys_daten_BAFU\\\\2009_Elektrische LeitfÔÇ×higkeit_Tagesmittel_1976-01-01_2022-12-31.csv',\n",
       " 'data\\\\phys_daten_BAFU\\\\phys_daten_BAFU\\\\2016_Elektrische LeitfÔÇ×higkeit_Tagesmittel_1976-01-01_2022-12-31.csv',\n",
       " 'data\\\\phys_daten_BAFU\\\\phys_daten_BAFU\\\\2018_Elektrische LeitfÔÇ×higkeit_Tagesmittel_1976-01-01_2022-12-31.csv',\n",
       " 'data\\\\phys_daten_BAFU\\\\phys_daten_BAFU\\\\2044_Elektrische LeitfÔÇ×higkeit_Tagesmittel_1986-02-27_2022-12-31.csv',\n",
       " 'data\\\\phys_daten_BAFU\\\\phys_daten_BAFU\\\\2068_Elektrische LeitfÔÇ×higkeit_Tagesmittel_1978-01-01_2022-12-31.csv',\n",
       " 'data\\\\phys_daten_BAFU\\\\phys_daten_BAFU\\\\2085_Elektrische LeitfÔÇ×higkeit_Tagesmittel_1976-01-01_2022-12-31.csv',\n",
       " 'data\\\\phys_daten_BAFU\\\\phys_daten_BAFU\\\\2091_Elektrische LeitfÔÇ×higkeit_Tagesmittel_1976-01-01_2022-12-31.csv',\n",
       " 'data\\\\phys_daten_BAFU\\\\phys_daten_BAFU\\\\2130_Elektrische LeitfÔÇ×higkeit_Tagesmittel_1980-07-11_1985-12-31.csv',\n",
       " 'data\\\\phys_daten_BAFU\\\\phys_daten_BAFU\\\\2135_Elektrische LeitfÔÇ×higkeit_Tagesmittel_1976-01-01_2022-12-31.csv',\n",
       " 'data\\\\phys_daten_BAFU\\\\phys_daten_BAFU\\\\2143_Elektrische LeitfÔÇ×higkeit_Tagesmittel_1976-01-01_2022-12-31.csv',\n",
       " 'data\\\\phys_daten_BAFU\\\\phys_daten_BAFU\\\\2174_Elektrische LeitfÔÇ×higkeit_Tagesmittel_1977-04-04_2018-10-22.csv',\n",
       " 'data\\\\phys_daten_BAFU\\\\phys_daten_BAFU\\\\2179_Elektrische LeitfÔÇ×higkeit_Tagesmittel_2003-06-04_2018-01-09.csv',\n",
       " 'data\\\\phys_daten_BAFU\\\\phys_daten_BAFU\\\\2410_Elektrische LeitfÔÇ×higkeit_Tagesmittel_1991-04-12_2022-12-31.csv',\n",
       " 'data\\\\phys_daten_BAFU\\\\phys_daten_BAFU\\\\2415_Elektrische LeitfÔÇ×higkeit_Tagesmittel_1976-02-24_2022-12-31.csv',\n",
       " 'data\\\\phys_daten_BAFU\\\\phys_daten_BAFU\\\\2462_Elektrische LeitfÔÇ×higkeit_Tagesmittel_1999-03-25_2022-12-31.csv',\n",
       " 'data\\\\phys_daten_BAFU\\\\phys_daten_BAFU\\\\2467_Elektrische LeitfÔÇ×higkeit_Tagesmittel_2004-01-28_2018-01-09.csv',\n",
       " 'data\\\\phys_daten_BAFU\\\\phys_daten_BAFU\\\\2473_Elektrische LeitfÔÇ×higkeit_Tagesmittel_1976-01-01_2022-12-31.csv',\n",
       " 'data\\\\phys_daten_BAFU\\\\phys_daten_BAFU\\\\2613_Elektrische LeitfÔÇ×higkeit_Tagesmittel_1977-01-01_2022-12-31.csv',\n",
       " 'data\\\\phys_daten_BAFU\\\\phys_daten_BAFU\\\\2622_Elektrische Leitfa╠êhigkeit_Tagesmittel_1976-01-01_2002-08-03.csv']"
      ]
     },
     "execution_count": 14,
     "metadata": {},
     "output_type": "execute_result"
    }
   ],
   "source": [
    "electric_filenames"
   ]
  },
  {
   "cell_type": "markdown",
   "id": "b9b70904",
   "metadata": {},
   "source": [
    "* BAFU: 2290 is located elsewhere (2290_St-Sulpice_Areuse_Eawag_CAMELS_CH)\n",
    "* NADUF: 2046, 2044 and 2045 (not BAFU)."
   ]
  },
  {
   "cell_type": "markdown",
   "id": "1f5fcb17",
   "metadata": {},
   "source": [
    "* pH"
   ]
  },
  {
   "cell_type": "code",
   "execution_count": 7,
   "id": "60ee27a0",
   "metadata": {},
   "outputs": [
    {
     "data": {
      "text/plain": [
       "['data\\\\phys_daten_BAFU\\\\phys_daten_BAFU\\\\2009_pH-Wert_Tagesmittel_1976-01-01_2022-12-31.csv',\n",
       " 'data\\\\phys_daten_BAFU\\\\phys_daten_BAFU\\\\2016_pH-Wert_Tagesmittel_1976-01-01_2022-12-31.csv',\n",
       " 'data\\\\phys_daten_BAFU\\\\phys_daten_BAFU\\\\2018_pH-Wert_Tagesmittel_1976-01-01_2022-12-31.csv',\n",
       " 'data\\\\phys_daten_BAFU\\\\phys_daten_BAFU\\\\2044_pH-Wert_Tagesmittel_1986-01-29_2022-12-31.csv',\n",
       " 'data\\\\phys_daten_BAFU\\\\phys_daten_BAFU\\\\2068_pH-Wert_Tagesmittel_1978-01-01_2022-12-31.csv',\n",
       " 'data\\\\phys_daten_BAFU\\\\phys_daten_BAFU\\\\2085_pH-Wert_Tagesmittel_1976-01-01_2022-12-31.csv',\n",
       " 'data\\\\phys_daten_BAFU\\\\phys_daten_BAFU\\\\2091_pH-Wert_Tagesmittel_1976-01-01_2022-12-31.csv',\n",
       " 'data\\\\phys_daten_BAFU\\\\phys_daten_BAFU\\\\2130_pH-Wert_Tagesmittel_1980-07-11_1985-12-31.csv',\n",
       " 'data\\\\phys_daten_BAFU\\\\phys_daten_BAFU\\\\2135_pH-Wert_Tagesmittel_1976-01-01_2022-12-31.csv',\n",
       " 'data\\\\phys_daten_BAFU\\\\phys_daten_BAFU\\\\2143_pH-Wert_Tagesmittel_1976-01-01_2022-12-31.csv',\n",
       " 'data\\\\phys_daten_BAFU\\\\phys_daten_BAFU\\\\2174_pH-Wert_Tagesmittel_1977-04-04_2022-12-31.csv',\n",
       " 'data\\\\phys_daten_BAFU\\\\phys_daten_BAFU\\\\2410_pH-Wert_Tagesmittel_1991-04-12_2022-12-31.csv',\n",
       " 'data\\\\phys_daten_BAFU\\\\phys_daten_BAFU\\\\2415_pH-Wert_Tagesmittel_1976-03-01_2022-12-31.csv',\n",
       " 'data\\\\phys_daten_BAFU\\\\phys_daten_BAFU\\\\2462_pH-Wert_Tagesmittel_1999-03-25_2022-12-31.csv',\n",
       " 'data\\\\phys_daten_BAFU\\\\phys_daten_BAFU\\\\2473_pH-Wert_Tagesmittel_1976-01-01_2022-12-31.csv',\n",
       " 'data\\\\phys_daten_BAFU\\\\phys_daten_BAFU\\\\2613_pH-Wert_Tagesmittel_1977-01-01_2022-11-08.csv',\n",
       " 'data\\\\phys_daten_BAFU\\\\phys_daten_BAFU\\\\2622_pH-Wert_Tagesmittel_1976-01-01_2002-08-03.csv']"
      ]
     },
     "execution_count": 7,
     "metadata": {},
     "output_type": "execute_result"
    }
   ],
   "source": [
    "# Define the two specific words you want to filter for\n",
    "word1 = 'pH'\n",
    "word2 = 'Tagesmittel'\n",
    "\n",
    "# Filter CSV files based on whether their names contain both words\n",
    "ph_filenames = [file for file in filenames if (word1 in file) and (word2 in file)]\n",
    "ph_filenames"
   ]
  },
  {
   "cell_type": "markdown",
   "id": "1051586c",
   "metadata": {},
   "source": [
    "Here we have only 2622 (2243). "
   ]
  },
  {
   "cell_type": "markdown",
   "id": "ef3d1c32",
   "metadata": {},
   "source": [
    "* Temperature"
   ]
  },
  {
   "cell_type": "code",
   "execution_count": 8,
   "id": "99881ce7",
   "metadata": {},
   "outputs": [
    {
     "data": {
      "text/plain": [
       "['data\\\\phys_daten_BAFU\\\\phys_daten_BAFU\\\\2009_Wassertemperatur_Tagesmittel_1974-01-01_2022-12-31.csv',\n",
       " 'data\\\\phys_daten_BAFU\\\\phys_daten_BAFU\\\\2011_Wassertemperatur_Tagesmittel_1974-01-01_2022-12-31.csv',\n",
       " 'data\\\\phys_daten_BAFU\\\\phys_daten_BAFU\\\\2016_Wassertemperatur_Tagesmittel_1974-01-01_2022-12-31.csv',\n",
       " 'data\\\\phys_daten_BAFU\\\\phys_daten_BAFU\\\\2018_Wassertemperatur_Tagesmittel_1974-01-01_2022-12-31.csv',\n",
       " 'data\\\\phys_daten_BAFU\\\\phys_daten_BAFU\\\\2019_Wassertemperatur_Tagesmittel_1974-01-01_2022-12-31.csv',\n",
       " 'data\\\\phys_daten_BAFU\\\\phys_daten_BAFU\\\\2029_Wassertemperatur_Tagesmittel_1974-01-01_2022-12-31.csv',\n",
       " 'data\\\\phys_daten_BAFU\\\\phys_daten_BAFU\\\\2030_Wassertemperatur_Tagesmittel_1974-01-01_2022-12-31.csv',\n",
       " 'data\\\\phys_daten_BAFU\\\\phys_daten_BAFU\\\\2033_Wassertemperatur_Tagesmittel_2002-01-01_2022-12-31.csv',\n",
       " 'data\\\\phys_daten_BAFU\\\\phys_daten_BAFU\\\\2034_Wassertemperatur_Tagesmittel_1976-01-01_2022-12-31.csv',\n",
       " 'data\\\\phys_daten_BAFU\\\\phys_daten_BAFU\\\\2044_Wassertemperatur_Tagesmittel_1974-01-01_2022-12-31.csv',\n",
       " 'data\\\\phys_daten_BAFU\\\\phys_daten_BAFU\\\\2056_Wassertemperatur_Tagesmittel_1974-01-01_2022-12-31.csv',\n",
       " 'data\\\\phys_daten_BAFU\\\\phys_daten_BAFU\\\\2067_Wassertemperatur_Tagesmittel_1962-06-01_1987-12-31.csv',\n",
       " 'data\\\\phys_daten_BAFU\\\\phys_daten_BAFU\\\\2068_Wassertemperatur_Tagesmittel_1977-05-01_2022-12-31.csv',\n",
       " 'data\\\\phys_daten_BAFU\\\\phys_daten_BAFU\\\\2070_Wassertemperatur_Tagesmittel_1976-01-01_2022-12-31.csv',\n",
       " 'data\\\\phys_daten_BAFU\\\\phys_daten_BAFU\\\\2084_Wassertemperatur_Tagesmittel_1974-01-01_2022-12-31.csv',\n",
       " 'data\\\\phys_daten_BAFU\\\\phys_daten_BAFU\\\\2085_Wassertemperatur_Tagesmittel_1974-01-01_2022-12-31.csv',\n",
       " 'data\\\\phys_daten_BAFU\\\\phys_daten_BAFU\\\\2091_Wassertemperatur_Tagesmittel_1974-01-01_2022-12-31.csv',\n",
       " 'data\\\\phys_daten_BAFU\\\\phys_daten_BAFU\\\\2104_Wassertemperatur_Tagesmittel_1974-01-01_2022-12-31.csv',\n",
       " 'data\\\\phys_daten_BAFU\\\\phys_daten_BAFU\\\\2106_Wassertemperatur_Tagesmittel_1974-01-01_2022-12-31.csv',\n",
       " 'data\\\\phys_daten_BAFU\\\\phys_daten_BAFU\\\\2109_Wassertemperatur_Tagesmittel_1974-01-01_2022-12-31.csv',\n",
       " 'data\\\\phys_daten_BAFU\\\\phys_daten_BAFU\\\\2112_Wassertemperatur_Tagesmittel_2005-06-02_2022-12-31.csv',\n",
       " 'data\\\\phys_daten_BAFU\\\\phys_daten_BAFU\\\\2113_Wassertemperatur_Tagesmittel_1974-01-01_2022-12-31.csv',\n",
       " 'data\\\\phys_daten_BAFU\\\\phys_daten_BAFU\\\\2126_Wassertemperatur_Tagesmittel_2002-01-01_2022-12-31.csv',\n",
       " 'data\\\\phys_daten_BAFU\\\\phys_daten_BAFU\\\\2130_Wassertemperatur_Tagesmittel_1974-01-01_2022-12-31.csv',\n",
       " 'data\\\\phys_daten_BAFU\\\\phys_daten_BAFU\\\\2135_Wassertemperatur_Tagesmittel_1974-01-01_2022-12-31.csv',\n",
       " 'data\\\\phys_daten_BAFU\\\\phys_daten_BAFU\\\\2139_Wassertemperatur_Tagesmittel_1979-03-01_2022-12-31.csv',\n",
       " 'data\\\\phys_daten_BAFU\\\\phys_daten_BAFU\\\\2143_Wassertemperatur_Tagesmittel_1974-01-01_2022-12-31.csv',\n",
       " 'data\\\\phys_daten_BAFU\\\\phys_daten_BAFU\\\\2150_Wassertemperatur_Tagesmittel_2003-01-01_2022-12-31.csv',\n",
       " 'data\\\\phys_daten_BAFU\\\\phys_daten_BAFU\\\\2152_Wassertemperatur_Tagesmittel_1974-01-01_2022-12-31.csv',\n",
       " 'data\\\\phys_daten_BAFU\\\\phys_daten_BAFU\\\\2159_Wassertemperatur_Tagesmittel_2006-11-15_2022-12-31.csv',\n",
       " 'data\\\\phys_daten_BAFU\\\\phys_daten_BAFU\\\\2161_Wassertemperatur_Tagesmittel_2003-01-01_2022-12-31.csv',\n",
       " 'data\\\\phys_daten_BAFU\\\\phys_daten_BAFU\\\\2167_Wassertemperatur_Tagesmittel_2003-01-01_2022-12-31.csv',\n",
       " 'data\\\\phys_daten_BAFU\\\\phys_daten_BAFU\\\\2170_Wassertemperatur_Tagesmittel_1974-01-01_2022-12-31.csv',\n",
       " 'data\\\\phys_daten_BAFU\\\\phys_daten_BAFU\\\\2174_Wassertemperatur_Tagesmittel_1974-01-01_2022-12-31.csv',\n",
       " 'data\\\\phys_daten_BAFU\\\\phys_daten_BAFU\\\\2179_Wassertemperatur_Tagesmittel_2003-05-09_2022-12-31.csv',\n",
       " 'data\\\\phys_daten_BAFU\\\\phys_daten_BAFU\\\\2181_Wassertemperatur_Tagesmittel_1974-01-01_2022-12-31.csv',\n",
       " 'data\\\\phys_daten_BAFU\\\\phys_daten_BAFU\\\\2205_Wassertemperatur_Tagesmittel_1974-01-01_2022-12-31.csv',\n",
       " 'data\\\\phys_daten_BAFU\\\\phys_daten_BAFU\\\\2210_Wassertemperatur_Tagesmittel_2002-01-01_2022-12-31.csv',\n",
       " 'data\\\\phys_daten_BAFU\\\\phys_daten_BAFU\\\\2232_Wassertemperatur_Tagesmittel_2002-01-01_2022-12-31.csv',\n",
       " 'data\\\\phys_daten_BAFU\\\\phys_daten_BAFU\\\\2243_Wassertemperatur_Tagesmittel_1974-01-01_2022-12-31.csv',\n",
       " 'data\\\\phys_daten_BAFU\\\\phys_daten_BAFU\\\\2256_Wassertemperatur_Tagesmittel_2003-05-01_2022-12-31.csv',\n",
       " 'data\\\\phys_daten_BAFU\\\\phys_daten_BAFU\\\\2265_Wassertemperatur_Tagesmittel_2015-12-18_2022-12-31.csv',\n",
       " 'data\\\\phys_daten_BAFU\\\\phys_daten_BAFU\\\\2269_Wassertemperatur_Tagesmittel_1974-01-01_2022-12-31.csv',\n",
       " 'data\\\\phys_daten_BAFU\\\\phys_daten_BAFU\\\\2276_Wassertemperatur_Tagesmittel_2004-02-19_2022-12-31.csv',\n",
       " 'data\\\\phys_daten_BAFU\\\\phys_daten_BAFU\\\\2282_Wassertemperatur_Tagesmittel_2002-01-01_2022-12-31.csv',\n",
       " 'data\\\\phys_daten_BAFU\\\\phys_daten_BAFU\\\\2288_Wassertemperatur_Tagesmittel_2009-01-01_2022-12-31.csv',\n",
       " 'data\\\\phys_daten_BAFU\\\\phys_daten_BAFU\\\\2307_Wassertemperatur_Tagesmittel_2004-02-12_2022-12-31.csv',\n",
       " 'data\\\\phys_daten_BAFU\\\\phys_daten_BAFU\\\\2308_Wassertemperatur_Tagesmittel_2004-11-25_2022-12-31.csv',\n",
       " 'data\\\\phys_daten_BAFU\\\\phys_daten_BAFU\\\\2327_Wassertemperatur_Tagesmittel_2004-01-01_2022-12-31.csv',\n",
       " 'data\\\\phys_daten_BAFU\\\\phys_daten_BAFU\\\\2343_Wassertemperatur_Tagesmittel_2002-01-01_2022-12-31.csv',\n",
       " 'data\\\\phys_daten_BAFU\\\\phys_daten_BAFU\\\\2347_Wassertemperatur_Tagesmittel_2003-01-01_2022-12-31.csv',\n",
       " 'data\\\\phys_daten_BAFU\\\\phys_daten_BAFU\\\\2351_Wassertemperatur_Tagesmittel_2003-01-01_2022-12-31.csv',\n",
       " 'data\\\\phys_daten_BAFU\\\\phys_daten_BAFU\\\\2356_Wassertemperatur_Tagesmittel_2002-01-01_2022-12-31.csv',\n",
       " 'data\\\\phys_daten_BAFU\\\\phys_daten_BAFU\\\\2366_Wassertemperatur_Tagesmittel_2004-01-01_2022-12-31.csv',\n",
       " 'data\\\\phys_daten_BAFU\\\\phys_daten_BAFU\\\\2369_Wassertemperatur_Tagesmittel_2002-01-01_2022-12-31.csv',\n",
       " 'data\\\\phys_daten_BAFU\\\\phys_daten_BAFU\\\\2372_Wassertemperatur_Tagesmittel_1974-01-01_2022-12-31.csv',\n",
       " 'data\\\\phys_daten_BAFU\\\\phys_daten_BAFU\\\\2374_Wassertemperatur_Tagesmittel_2006-01-12_2022-12-31.csv',\n",
       " 'data\\\\phys_daten_BAFU\\\\phys_daten_BAFU\\\\2386_Wassertemperatur_Tagesmittel_2006-11-24_2022-12-31.csv',\n",
       " 'data\\\\phys_daten_BAFU\\\\phys_daten_BAFU\\\\2392_Wassertemperatur_Tagesmittel_1974-01-01_2022-12-31.csv',\n",
       " 'data\\\\phys_daten_BAFU\\\\phys_daten_BAFU\\\\2403_Wassertemperatur_Tagesmittel_1974-01-01_1980-12-31.csv',\n",
       " 'data\\\\phys_daten_BAFU\\\\phys_daten_BAFU\\\\2410_Wassertemperatur_Tagesmittel_1991-04-12_2022-12-31.csv',\n",
       " 'data\\\\phys_daten_BAFU\\\\phys_daten_BAFU\\\\2414_Wassertemperatur_Tagesmittel_2002-01-01_2022-12-31.csv',\n",
       " 'data\\\\phys_daten_BAFU\\\\phys_daten_BAFU\\\\2415_Wassertemperatur_Tagesmittel_1976-03-01_2022-12-31.csv',\n",
       " 'data\\\\phys_daten_BAFU\\\\phys_daten_BAFU\\\\2424_Wassertemperatur_Tagesmittel_1977-01-01_1995-06-19.csv',\n",
       " 'data\\\\phys_daten_BAFU\\\\phys_daten_BAFU\\\\2432_Wassertemperatur_Tagesmittel_2002-01-01_2022-12-31.csv',\n",
       " 'data\\\\phys_daten_BAFU\\\\phys_daten_BAFU\\\\2433_Wassertemperatur_Tagesmittel_2010-10-19_2022-12-31.csv',\n",
       " 'data\\\\phys_daten_BAFU\\\\phys_daten_BAFU\\\\2434_Wassertemperatur_Tagesmittel_2013-02-13_2022-12-31.csv',\n",
       " 'data\\\\phys_daten_BAFU\\\\phys_daten_BAFU\\\\2457_Wassertemperatur_Tagesmittel_1974-01-01_2022-12-31.csv',\n",
       " 'data\\\\phys_daten_BAFU\\\\phys_daten_BAFU\\\\2462_Wassertemperatur_Tagesmittel_1980-04-01_2022-12-31.csv',\n",
       " 'data\\\\phys_daten_BAFU\\\\phys_daten_BAFU\\\\2467_Wassertemperatur_Tagesmittel_1980-06-01_2023-06-15.csv',\n",
       " 'data\\\\phys_daten_BAFU\\\\phys_daten_BAFU\\\\2473_Wassertemperatur_Tagesmittel_1974-01-01_2022-12-31.csv',\n",
       " 'data\\\\phys_daten_BAFU\\\\phys_daten_BAFU\\\\2481_Wassertemperatur_Tagesmittel_1980-06-01_2023-06-15.csv',\n",
       " 'data\\\\phys_daten_BAFU\\\\phys_daten_BAFU\\\\2485_Wassertemperatur_Tagesmittel_2002-01-01_2022-12-31.csv',\n",
       " 'data\\\\phys_daten_BAFU\\\\phys_daten_BAFU\\\\2493_Wassertemperatur_Tagesmittel_2011-09-09_2022-12-31.csv',\n",
       " 'data\\\\phys_daten_BAFU\\\\phys_daten_BAFU\\\\2500_Wassertemperatur_Tagesmittel_1988-09-01_2022-12-31.csv',\n",
       " 'data\\\\phys_daten_BAFU\\\\phys_daten_BAFU\\\\2604_Wassertemperatur_Tagesmittel_2003-01-01_2022-12-31.csv',\n",
       " 'data\\\\phys_daten_BAFU\\\\phys_daten_BAFU\\\\2606_Wassertemperatur_Tagesmittel_1999-01-01_2022-12-31.csv',\n",
       " 'data\\\\phys_daten_BAFU\\\\phys_daten_BAFU\\\\2608_Wassertemperatur_Tagesmittel_2003-01-01_2022-12-31.csv',\n",
       " 'data\\\\phys_daten_BAFU\\\\phys_daten_BAFU\\\\2609_Wassertemperatur_Tagesmittel_2004-01-01_2022-12-31.csv',\n",
       " 'data\\\\phys_daten_BAFU\\\\phys_daten_BAFU\\\\2612_Wassertemperatur_Tagesmittel_2003-09-19_2022-12-31.csv',\n",
       " 'data\\\\phys_daten_BAFU\\\\phys_daten_BAFU\\\\2613_Wassertemperatur_Tagesmittel_1995-01-01_2022-12-31.csv',\n",
       " 'data\\\\phys_daten_BAFU\\\\phys_daten_BAFU\\\\2615_Wassertemperatur_Tagesmittel_2003-01-01_2008-12-31.csv',\n",
       " 'data\\\\phys_daten_BAFU\\\\phys_daten_BAFU\\\\2617_Wassertemperatur_Tagesmittel_2003-01-01_2022-12-31.csv',\n",
       " 'data\\\\phys_daten_BAFU\\\\phys_daten_BAFU\\\\2622_Wassertemperatur_Tagesmittel_1969-01-01_2003-12-31.csv',\n",
       " 'data\\\\phys_daten_BAFU\\\\phys_daten_BAFU\\\\2623_Wassertemperatur_Tagesmittel_2003-01-01_2022-12-31.csv',\n",
       " 'data\\\\phys_daten_BAFU\\\\phys_daten_BAFU\\\\2634_Wassertemperatur_Tagesmittel_1974-01-01_2022-12-31.csv',\n",
       " 'data\\\\phys_daten_BAFU\\\\phys_daten_BAFU\\\\2635_Wassertemperatur_Tagesmittel_2003-01-01_2022-12-31.csv']"
      ]
     },
     "execution_count": 8,
     "metadata": {},
     "output_type": "execute_result"
    }
   ],
   "source": [
    "# Define the two specific words you want to filter for\n",
    "word1 = 'Wassertemperatur'\n",
    "word2 = 'Tagesmittel'\n",
    "\n",
    "# Filter CSV files based on whether their names contain both words\n",
    "temperature_filenames = [file for file in filenames if (word1 in file) and (word2 in file)]\n",
    "temperature_filenames"
   ]
  },
  {
   "cell_type": "markdown",
   "id": "e5efd7ef",
   "metadata": {},
   "source": [
    "* BAFU: 2290 is located elsewhere (2290_St-Sulpice_Areuse_Eawag_CAMELS_CH), 2176 (Kanton ZH) is located elsewhere.\n",
    "\n",
    "* NADUF: 2046, 2044, 2045 (not BAFU).\n",
    "\n",
    "* 2622 (2243) is included in both files here for temperature, but suposelly is the same (ask Ursi again). \n",
    "\n",
    "* 2424 and 2425 are included here, but not in CAMELS or in the original list from Ursi (87 files in Hydronetz), but are in the excel and files. \n",
    "\n",
    "* This give us a total of 89 stations with temperature. If we take out 2425 and 2425 we have the 87. "
   ]
  },
  {
   "cell_type": "markdown",
   "id": "199df568",
   "metadata": {},
   "source": [
    "* Oxygen"
   ]
  },
  {
   "cell_type": "code",
   "execution_count": 9,
   "id": "f961fcc0",
   "metadata": {},
   "outputs": [
    {
     "data": {
      "text/plain": [
       "['data\\\\phys_daten_BAFU\\\\phys_daten_BAFU\\\\2009_Sauerstoff_Tagesmittel_1976-01-01_2022-12-31.csv',\n",
       " 'data\\\\phys_daten_BAFU\\\\phys_daten_BAFU\\\\2016_Sauerstoff_Tagesmittel_1976-01-01_2022-12-31.csv',\n",
       " 'data\\\\phys_daten_BAFU\\\\phys_daten_BAFU\\\\2018_Sauerstoff_Tagesmittel_1976-01-01_2022-12-31.csv',\n",
       " 'data\\\\phys_daten_BAFU\\\\phys_daten_BAFU\\\\2044_Sauerstoff_Tagesmittel_1986-01-29_2022-12-31.csv',\n",
       " 'data\\\\phys_daten_BAFU\\\\phys_daten_BAFU\\\\2068_Sauerstoff_Tagesmittel_1978-01-01_2022-12-31.csv',\n",
       " 'data\\\\phys_daten_BAFU\\\\phys_daten_BAFU\\\\2085_Sauerstoff_Tagesmittel_1976-01-01_2022-12-31.csv',\n",
       " 'data\\\\phys_daten_BAFU\\\\phys_daten_BAFU\\\\2091_Sauerstoff_Tagesmittel_1976-01-01_2022-12-31.csv',\n",
       " 'data\\\\phys_daten_BAFU\\\\phys_daten_BAFU\\\\2130_Sauerstoff_Tagesmittel_1980-07-11_1985-12-31.csv',\n",
       " 'data\\\\phys_daten_BAFU\\\\phys_daten_BAFU\\\\2135_Sauerstoff_Tagesmittel_1976-01-01_2022-12-31.csv',\n",
       " 'data\\\\phys_daten_BAFU\\\\phys_daten_BAFU\\\\2143_Sauerstoff_Tagesmittel_1976-01-01_2022-12-31.csv',\n",
       " 'data\\\\phys_daten_BAFU\\\\phys_daten_BAFU\\\\2174_Sauerstoff_Tagesmittel_1977-04-04_2022-12-31.csv',\n",
       " 'data\\\\phys_daten_BAFU\\\\phys_daten_BAFU\\\\2410_Sauerstoff_Tagesmittel_1991-04-12_2022-12-31.csv',\n",
       " 'data\\\\phys_daten_BAFU\\\\phys_daten_BAFU\\\\2415_Sauerstoff_Tagesmittel_1976-02-24_2022-12-31.csv',\n",
       " 'data\\\\phys_daten_BAFU\\\\phys_daten_BAFU\\\\2462_Sauerstoff_Tagesmittel_1999-03-25_2022-12-31.csv',\n",
       " 'data\\\\phys_daten_BAFU\\\\phys_daten_BAFU\\\\2473_Sauerstoff_Tagesmittel_1976-01-01_2022-12-31.csv',\n",
       " 'data\\\\phys_daten_BAFU\\\\phys_daten_BAFU\\\\2613_Sauerstoff_Tagesmittel_1977-01-01_2022-11-08.csv',\n",
       " 'data\\\\phys_daten_BAFU\\\\phys_daten_BAFU\\\\2622_Sauerstoff_Tagesmittel_1976-01-01_2002-08-03.csv']"
      ]
     },
     "execution_count": 9,
     "metadata": {},
     "output_type": "execute_result"
    }
   ],
   "source": [
    "# Define the two specific words you want to filter for\n",
    "word1 = 'Sauerstoff'\n",
    "word2 = 'Tagesmittel'\n",
    "\n",
    "# Filter CSV files based on whether their names contain both words\n",
    "oxygen_filenames = [file for file in filenames if (word1 in file) and (word2 in file)]\n",
    "oxygen_filenames"
   ]
  },
  {
   "cell_type": "markdown",
   "id": "c0aa1f79",
   "metadata": {},
   "source": [
    "Here we have only 2622 (2243). "
   ]
  },
  {
   "cell_type": "markdown",
   "id": "f6e70c7d",
   "metadata": {},
   "source": [
    "### Aggregation"
   ]
  },
  {
   "cell_type": "markdown",
   "id": "50a78bb7",
   "metadata": {},
   "source": [
    "* We have 89 stations in total.\n",
    "* The 87 from the temperature list + 2290 + 2176.\n",
    "* We first aggregate the data available from BAFU, then the 2 extra stations.\n",
    "\n",
    "#### - BAFU"
   ]
  },
  {
   "cell_type": "code",
   "execution_count": 63,
   "id": "f1402c0b",
   "metadata": {},
   "outputs": [
    {
     "name": "stderr",
     "output_type": "stream",
     "text": [
      "100%|██████████| 87/87 [00:22<00:00,  3.86it/s]\n"
     ]
    }
   ],
   "source": [
    "columns_names = [\"temp_sensor\", \"pH_sensor\", \"ec_sensor\", \"O2C_sensor\"]\n",
    "\n",
    "for filename in tqdm.tqdm(temperature_filenames):\n",
    "    daily_timeseries = pd.DataFrame(index = pd.date_range('01-01-1981','12-31-2020', freq='D'), columns=columns_names)\n",
    "\n",
    "\n",
    "    network_filename = pd.read_csv(filename, skiprows=8, delimiter = \";\", encoding='latin-1', usecols=[\"Zeitstempel\", \n",
    "                                                                                                      \"Wert\"])\n",
    "    network_filename[\"date\"] = pd.to_datetime(network_filename[\"Zeitstempel\"], format='%Y-%m-%d')\n",
    "    network_filename = network_filename[[\"date\", \"Wert\"]]\n",
    "    network_filename.set_index(\"date\", inplace = True)\n",
    "    \n",
    "    namestation = os.path.basename(filename)\n",
    "    namestation = namestation.split(\"_\", 5)[0]\n",
    "    daily_timeseries[\"temp_sensor\"] = network_filename[\"Wert\"]\n",
    "    \n",
    "    \n",
    "    ###################################################\n",
    "    ##  pH\n",
    "    \n",
    "    filenames = ph_filenames.copy()\n",
    "    # List to store filenames containing the number\n",
    "    matching_filenames = []\n",
    "\n",
    "    # Iterate over filenames and check if the number is present in the first 4 characters of the file name\n",
    "    for filename in filenames:\n",
    "        # Extract the file name (without the path)\n",
    "        file_name_only = filename.split(\"\\\\\")[-1]\n",
    "        # Extract the first 4 characters of the file name\n",
    "        first_four_characters = file_name_only[:4]\n",
    "        # Check if the number is present in the first 4 characters\n",
    "        if namestation in first_four_characters:\n",
    "            matching_filenames.append(filename)\n",
    "    try:        \n",
    "        network_filename = pd.read_csv(matching_filenames[0], skiprows=8, delimiter = \";\", encoding='latin-1', usecols=[\"Zeitstempel\", \n",
    "                                                                                                          \"Wert\"])\n",
    "        network_filename[\"date\"] = pd.to_datetime(network_filename[\"Zeitstempel\"], format='%Y-%m-%d')\n",
    "        network_filename = network_filename[[\"date\", \"Wert\"]]\n",
    "        network_filename.set_index(\"date\", inplace = True)\n",
    "        network_filename['Wert'] = pd.to_numeric(network_filename['Wert'], errors='coerce')\n",
    "\n",
    "        daily_timeseries[\"pH_sensor\"] = network_filename[\"Wert\"]      \n",
    "    except: \n",
    "        1+1\n",
    "        \n",
    "    ###################################################\n",
    "    ##  electric_cond(µS/cm)\n",
    "    \n",
    "    filenames = electric_filenames.copy()\n",
    "    # List to store filenames containing the number\n",
    "    matching_filenames = []\n",
    "\n",
    "    # Iterate over filenames and check if the number is present in the first 4 characters of the file name\n",
    "    for filename in filenames:\n",
    "        # Extract the file name (without the path)\n",
    "        file_name_only = filename.split(\"\\\\\")[-1]\n",
    "        # Extract the first 4 characters of the file name\n",
    "        first_four_characters = file_name_only[:4]\n",
    "        # Check if the number is present in the first 4 characters\n",
    "        if namestation in first_four_characters:\n",
    "            matching_filenames.append(filename)\n",
    "    try:       \n",
    "        network_filename = pd.read_csv(matching_filenames[0], skiprows=8, delimiter = \";\", encoding='latin-1', usecols=[\"Zeitstempel\", \n",
    "                                                                                                          \"Wert\"])\n",
    "        network_filename[\"date\"] = pd.to_datetime(network_filename[\"Zeitstempel\"], format='%Y-%m-%d')\n",
    "        network_filename = network_filename[[\"date\", \"Wert\"]]\n",
    "        network_filename.set_index(\"date\", inplace = True)\n",
    "        network_filename['Wert'] = pd.to_numeric(network_filename['Wert'], errors='coerce')\n",
    "\n",
    "        daily_timeseries[\"ec_sensor\"] = network_filename[\"Wert\"]\n",
    "    except:\n",
    "        1+1\n",
    "    ###################################################\n",
    "    ##  oxygen_conc(mg/l)\n",
    "    \n",
    "    filenames = oxygen_filenames.copy()\n",
    "    # List to store filenames containing the number\n",
    "    matching_filenames = []\n",
    "\n",
    "    # Iterate over filenames and check if the number is present in the first 4 characters of the file name\n",
    "    for filename in filenames:\n",
    "        # Extract the file name (without the path)\n",
    "        file_name_only = filename.split(\"\\\\\")[-1]\n",
    "        # Extract the first 4 characters of the file name\n",
    "        first_four_characters = file_name_only[:4]\n",
    "        # Check if the number is present in the first 4 characters\n",
    "        if namestation in first_four_characters:\n",
    "            matching_filenames.append(filename)\n",
    "    try:      \n",
    "        network_filename = pd.read_csv(matching_filenames[0], skiprows=8, delimiter = \";\", encoding='latin-1', usecols=[\"Zeitstempel\", \n",
    "                                                                                                          \"Wert\"])\n",
    "        network_filename[\"date\"] = pd.to_datetime(network_filename[\"Zeitstempel\"], format='%Y-%m-%d')\n",
    "        network_filename = network_filename[[\"date\", \"Wert\"]]\n",
    "        network_filename.set_index(\"date\", inplace = True)\n",
    "        network_filename['Wert'] = pd.to_numeric(network_filename['Wert'], errors='coerce')\n",
    "\n",
    "        daily_timeseries[\"O2C_sensor\"] = network_filename[\"Wert\"]  \n",
    "    except: \n",
    "        1+1\n",
    "    \n",
    "    daily_timeseries.index.name = \"date\"\n",
    "    daily_timeseries = daily_timeseries.apply(pd.to_numeric, errors='coerce')\n",
    "\n",
    "    daily_timeseries = daily_timeseries.round(2)\n",
    "\n",
    "    daily_timeseries = daily_timeseries.loc[\"1981\":\"2020\"]\n",
    "    \n",
    "    daily_timeseries.to_csv(PATH_OUTPUT + \"\\\\daily\\CAMELS_CH_Chem_daily_\"+namestation+\".csv\", encoding='latin')"
   ]
  },
  {
   "cell_type": "markdown",
   "id": "3179d61d",
   "metadata": {},
   "source": [
    "#### - 2 extra stations\n",
    "Station 2176"
   ]
  },
  {
   "cell_type": "code",
   "execution_count": 64,
   "id": "eea8748d",
   "metadata": {},
   "outputs": [
    {
     "data": {
      "text/html": [
       "<div>\n",
       "<style scoped>\n",
       "    .dataframe tbody tr th:only-of-type {\n",
       "        vertical-align: middle;\n",
       "    }\n",
       "\n",
       "    .dataframe tbody tr th {\n",
       "        vertical-align: top;\n",
       "    }\n",
       "\n",
       "    .dataframe thead th {\n",
       "        text-align: right;\n",
       "    }\n",
       "</style>\n",
       "<table border=\"1\" class=\"dataframe\">\n",
       "  <thead>\n",
       "    <tr style=\"text-align: right;\">\n",
       "      <th></th>\n",
       "      <th>temp_sensor</th>\n",
       "      <th>pH_sensor</th>\n",
       "      <th>ec_sensor</th>\n",
       "      <th>O2C_sensor</th>\n",
       "    </tr>\n",
       "    <tr>\n",
       "      <th>date</th>\n",
       "      <th></th>\n",
       "      <th></th>\n",
       "      <th></th>\n",
       "      <th></th>\n",
       "    </tr>\n",
       "  </thead>\n",
       "  <tbody>\n",
       "    <tr>\n",
       "      <th>1981-01-01</th>\n",
       "      <td>NaN</td>\n",
       "      <td>NaN</td>\n",
       "      <td>NaN</td>\n",
       "      <td>NaN</td>\n",
       "    </tr>\n",
       "    <tr>\n",
       "      <th>1981-01-02</th>\n",
       "      <td>NaN</td>\n",
       "      <td>NaN</td>\n",
       "      <td>NaN</td>\n",
       "      <td>NaN</td>\n",
       "    </tr>\n",
       "    <tr>\n",
       "      <th>1981-01-03</th>\n",
       "      <td>NaN</td>\n",
       "      <td>NaN</td>\n",
       "      <td>NaN</td>\n",
       "      <td>NaN</td>\n",
       "    </tr>\n",
       "    <tr>\n",
       "      <th>1981-01-04</th>\n",
       "      <td>NaN</td>\n",
       "      <td>NaN</td>\n",
       "      <td>NaN</td>\n",
       "      <td>NaN</td>\n",
       "    </tr>\n",
       "    <tr>\n",
       "      <th>1981-01-05</th>\n",
       "      <td>NaN</td>\n",
       "      <td>NaN</td>\n",
       "      <td>NaN</td>\n",
       "      <td>NaN</td>\n",
       "    </tr>\n",
       "    <tr>\n",
       "      <th>...</th>\n",
       "      <td>...</td>\n",
       "      <td>...</td>\n",
       "      <td>...</td>\n",
       "      <td>...</td>\n",
       "    </tr>\n",
       "    <tr>\n",
       "      <th>2020-12-27</th>\n",
       "      <td>1.65</td>\n",
       "      <td>NaN</td>\n",
       "      <td>NaN</td>\n",
       "      <td>NaN</td>\n",
       "    </tr>\n",
       "    <tr>\n",
       "      <th>2020-12-28</th>\n",
       "      <td>2.40</td>\n",
       "      <td>NaN</td>\n",
       "      <td>NaN</td>\n",
       "      <td>NaN</td>\n",
       "    </tr>\n",
       "    <tr>\n",
       "      <th>2020-12-29</th>\n",
       "      <td>2.40</td>\n",
       "      <td>NaN</td>\n",
       "      <td>NaN</td>\n",
       "      <td>NaN</td>\n",
       "    </tr>\n",
       "    <tr>\n",
       "      <th>2020-12-30</th>\n",
       "      <td>2.72</td>\n",
       "      <td>NaN</td>\n",
       "      <td>NaN</td>\n",
       "      <td>NaN</td>\n",
       "    </tr>\n",
       "    <tr>\n",
       "      <th>2020-12-31</th>\n",
       "      <td>3.01</td>\n",
       "      <td>NaN</td>\n",
       "      <td>NaN</td>\n",
       "      <td>NaN</td>\n",
       "    </tr>\n",
       "  </tbody>\n",
       "</table>\n",
       "<p>14610 rows × 4 columns</p>\n",
       "</div>"
      ],
      "text/plain": [
       "            temp_sensor  pH_sensor  ec_sensor  O2C_sensor\n",
       "date                                                     \n",
       "1981-01-01          NaN        NaN        NaN         NaN\n",
       "1981-01-02          NaN        NaN        NaN         NaN\n",
       "1981-01-03          NaN        NaN        NaN         NaN\n",
       "1981-01-04          NaN        NaN        NaN         NaN\n",
       "1981-01-05          NaN        NaN        NaN         NaN\n",
       "...                 ...        ...        ...         ...\n",
       "2020-12-27         1.65        NaN        NaN         NaN\n",
       "2020-12-28         2.40        NaN        NaN         NaN\n",
       "2020-12-29         2.40        NaN        NaN         NaN\n",
       "2020-12-30         2.72        NaN        NaN         NaN\n",
       "2020-12-31         3.01        NaN        NaN         NaN\n",
       "\n",
       "[14610 rows x 4 columns]"
      ]
     },
     "execution_count": 64,
     "metadata": {},
     "output_type": "execute_result"
    }
   ],
   "source": [
    "namestation = \"2176\"\n",
    "\n",
    "columns_names = [\"temperature(°C)\", \"pH(-)\", \"electric_cond(µS/cm)\", \"oxygen_conc(mg/l)\"]\n",
    "hourly_timeseries = pd.DataFrame(index = pd.date_range('01-01-1981','12-31-2020', freq='H'), columns=columns_names)\n",
    "\n",
    "path_2176 = 'data\\Kanton ZH\\S2176\\S2176_Wassertemperatur _Stundenmittel.txt'\n",
    "network_2176 = pd.read_csv(path_2176, skiprows=2, delimiter = \"\\t\", encoding='latin-1')\n",
    "network_2176[\"date\"] = network_2176[\"Datum\"] + \" \"  + network_2176[\"Zeit\"]\n",
    "network_2176[\"date\"] = pd.to_datetime(network_2176[\"date\"], format='%d.%m.%Y %H:%M:%S')\n",
    "network_2176.set_index(\"date\", inplace = True)\n",
    "network_2176 = network_2176[[\"Messwert\"]]\n",
    "hourly_timeseries[\"temperature(°C)\"] = network_2176[\"Messwert\"]\n",
    "\n",
    "hourly_timeseries.index.name = \"date\"\n",
    "\n",
    "# Resample to daily data\n",
    "daily_timeseries = hourly_timeseries.resample('D').mean()\n",
    "\n",
    "# As it only has nans, we fill it otherwise it would not be exported\n",
    "daily_timeseries[[\"pH(-)\", \"electric_cond(µS/cm)\", \"oxygen_conc(mg/l)\"]] = np.nan\n",
    "\n",
    "daily_timeseries = daily_timeseries.apply(pd.to_numeric, errors='coerce')\n",
    "\n",
    "daily_timeseries = daily_timeseries.round(2)\n",
    "\n",
    "# Rename the names of the columns\n",
    "daily_timeseries.columns = [\"temp_sensor\", \"pH_sensor\", \"ec_sensor\", \"O2C_sensor\"]\n",
    "daily_timeseries = daily_timeseries.loc[\"1981\":\"2020\"]\n",
    "\n",
    "daily_timeseries.to_csv(PATH_OUTPUT + \"\\\\daily\\CAMELS_CH_Chem_daily_\"+namestation+\".csv\", encoding='latin')\n",
    "daily_timeseries"
   ]
  },
  {
   "cell_type": "markdown",
   "id": "81b15dfe",
   "metadata": {},
   "source": [
    "Station 2290"
   ]
  },
  {
   "cell_type": "code",
   "execution_count": 65,
   "id": "42c9a59c",
   "metadata": {},
   "outputs": [
    {
     "data": {
      "text/html": [
       "<div>\n",
       "<style scoped>\n",
       "    .dataframe tbody tr th:only-of-type {\n",
       "        vertical-align: middle;\n",
       "    }\n",
       "\n",
       "    .dataframe tbody tr th {\n",
       "        vertical-align: top;\n",
       "    }\n",
       "\n",
       "    .dataframe thead th {\n",
       "        text-align: right;\n",
       "    }\n",
       "</style>\n",
       "<table border=\"1\" class=\"dataframe\">\n",
       "  <thead>\n",
       "    <tr style=\"text-align: right;\">\n",
       "      <th></th>\n",
       "      <th>temp_sensor</th>\n",
       "      <th>pH_sensor</th>\n",
       "      <th>ec_sensor</th>\n",
       "      <th>O2C_sensor</th>\n",
       "    </tr>\n",
       "    <tr>\n",
       "      <th>date</th>\n",
       "      <th></th>\n",
       "      <th></th>\n",
       "      <th></th>\n",
       "      <th></th>\n",
       "    </tr>\n",
       "  </thead>\n",
       "  <tbody>\n",
       "    <tr>\n",
       "      <th>1981-01-01</th>\n",
       "      <td>NaN</td>\n",
       "      <td>NaN</td>\n",
       "      <td>NaN</td>\n",
       "      <td>NaN</td>\n",
       "    </tr>\n",
       "    <tr>\n",
       "      <th>1981-01-02</th>\n",
       "      <td>NaN</td>\n",
       "      <td>NaN</td>\n",
       "      <td>NaN</td>\n",
       "      <td>NaN</td>\n",
       "    </tr>\n",
       "    <tr>\n",
       "      <th>1981-01-03</th>\n",
       "      <td>NaN</td>\n",
       "      <td>NaN</td>\n",
       "      <td>NaN</td>\n",
       "      <td>NaN</td>\n",
       "    </tr>\n",
       "    <tr>\n",
       "      <th>1981-01-04</th>\n",
       "      <td>NaN</td>\n",
       "      <td>NaN</td>\n",
       "      <td>NaN</td>\n",
       "      <td>NaN</td>\n",
       "    </tr>\n",
       "    <tr>\n",
       "      <th>1981-01-05</th>\n",
       "      <td>NaN</td>\n",
       "      <td>NaN</td>\n",
       "      <td>NaN</td>\n",
       "      <td>NaN</td>\n",
       "    </tr>\n",
       "    <tr>\n",
       "      <th>...</th>\n",
       "      <td>...</td>\n",
       "      <td>...</td>\n",
       "      <td>...</td>\n",
       "      <td>...</td>\n",
       "    </tr>\n",
       "    <tr>\n",
       "      <th>2020-12-27</th>\n",
       "      <td>7.20</td>\n",
       "      <td>NaN</td>\n",
       "      <td>393.66</td>\n",
       "      <td>NaN</td>\n",
       "    </tr>\n",
       "    <tr>\n",
       "      <th>2020-12-28</th>\n",
       "      <td>7.26</td>\n",
       "      <td>NaN</td>\n",
       "      <td>396.01</td>\n",
       "      <td>NaN</td>\n",
       "    </tr>\n",
       "    <tr>\n",
       "      <th>2020-12-29</th>\n",
       "      <td>7.25</td>\n",
       "      <td>NaN</td>\n",
       "      <td>405.37</td>\n",
       "      <td>NaN</td>\n",
       "    </tr>\n",
       "    <tr>\n",
       "      <th>2020-12-30</th>\n",
       "      <td>7.26</td>\n",
       "      <td>NaN</td>\n",
       "      <td>409.97</td>\n",
       "      <td>NaN</td>\n",
       "    </tr>\n",
       "    <tr>\n",
       "      <th>2020-12-31</th>\n",
       "      <td>7.22</td>\n",
       "      <td>NaN</td>\n",
       "      <td>413.80</td>\n",
       "      <td>NaN</td>\n",
       "    </tr>\n",
       "  </tbody>\n",
       "</table>\n",
       "<p>14610 rows × 4 columns</p>\n",
       "</div>"
      ],
      "text/plain": [
       "            temp_sensor  pH_sensor  ec_sensor  O2C_sensor\n",
       "date                                                     \n",
       "1981-01-01          NaN        NaN        NaN         NaN\n",
       "1981-01-02          NaN        NaN        NaN         NaN\n",
       "1981-01-03          NaN        NaN        NaN         NaN\n",
       "1981-01-04          NaN        NaN        NaN         NaN\n",
       "1981-01-05          NaN        NaN        NaN         NaN\n",
       "...                 ...        ...        ...         ...\n",
       "2020-12-27         7.20        NaN     393.66         NaN\n",
       "2020-12-28         7.26        NaN     396.01         NaN\n",
       "2020-12-29         7.25        NaN     405.37         NaN\n",
       "2020-12-30         7.26        NaN     409.97         NaN\n",
       "2020-12-31         7.22        NaN     413.80         NaN\n",
       "\n",
       "[14610 rows x 4 columns]"
      ]
     },
     "execution_count": 65,
     "metadata": {},
     "output_type": "execute_result"
    }
   ],
   "source": [
    "namestation = \"2290\"\n",
    "\n",
    "columns_names = [\"temperature(°C)\", \"pH(-)\", \"electric_cond(µS/cm)\", \"oxygen_conc(mg/l)\"]\n",
    "hourly_timeseries = pd.DataFrame(index = pd.date_range('01-01-1981','12-31-2020', freq='H'), columns=columns_names)\n",
    "\n",
    "############ Electrical conductivity\n",
    "path_2290_EC = 'data\\S2290\\S2290_St-Sulpice-Areuse_LF_20090425-20221231.CSV'\n",
    "\n",
    "network_2290_EC = pd.read_csv(path_2290_EC, skiprows=13, delimiter = \";\", encoding='latin-1')\n",
    "\n",
    "network_2290_EC = network_2290_EC[[\"Datum.1\", \"Uhrzeit.1\", \"LF Stundenmittel [µS/cm]\"]]\n",
    "\n",
    "# Drop rows with NaN values in the specific column\n",
    "network_2290_EC.dropna(subset=['Datum.1'], inplace=True)\n",
    "\n",
    "network_2290_EC[\"date\"] = network_2290_EC[\"Datum.1\"] + \" \"  + network_2290_EC[\"Uhrzeit.1\"]\n",
    "network_2290_EC[\"date\"] = pd.to_datetime(network_2290_EC[\"date\"], format='%d.%m.%Y %H:%M:%S')\n",
    "network_2290_EC.set_index(\"date\", inplace = True)\n",
    "\n",
    "############ Temperature\n",
    "path_2290_T = 'data\\S2290\\S2290_St-Sulpice-Areuse_T_20090425-20221231.CSV'\n",
    "\n",
    "network_2290_T = pd.read_csv(path_2290_T, skiprows=13, delimiter = \";\", encoding='latin-1')\n",
    "\n",
    "network_2290_T = network_2290_T[[\"Datum.1\", \"Uhrzeit.1\", \"T Stundenmittel [°C]\"]]\n",
    "\n",
    "# Drop rows with NaN values in the specific column\n",
    "network_2290_T.dropna(subset=['Datum.1'], inplace=True)\n",
    "\n",
    "network_2290_T[\"date\"] = network_2290_T[\"Datum.1\"] + \" \"  + network_2290_T[\"Uhrzeit.1\"]\n",
    "network_2290_T[\"date\"] = pd.to_datetime(network_2290_T[\"date\"], format='%d.%m.%Y %H:%M:%S')\n",
    "network_2290_T.set_index(\"date\", inplace = True)\n",
    "\n",
    "############################################################################\n",
    "network_2290_EC = network_2290_EC[[\"LF Stundenmittel [µS/cm]\"]]\n",
    "hourly_timeseries[\"electric_cond(µS/cm)\"] = network_2290_EC[\"LF Stundenmittel [µS/cm]\"]\n",
    "\n",
    "network_2290_T = network_2290_T[[\"T Stundenmittel [°C]\"]]\n",
    "hourly_timeseries[\"temperature(°C)\"] = network_2290_T[\"T Stundenmittel [°C]\"]\n",
    "\n",
    "hourly_timeseries.index.name = \"date\"\n",
    "\n",
    "# There are some non-numeric things in the columns, instead of NaNs\n",
    "hourly_timeseries = hourly_timeseries.apply(pd.to_numeric, errors='coerce')\n",
    "\n",
    "# Resample to daily data\n",
    "daily_timeseries = hourly_timeseries.resample('D').mean()\n",
    "\n",
    "daily_timeseries = daily_timeseries.apply(pd.to_numeric, errors='coerce')\n",
    "\n",
    "daily_timeseries = daily_timeseries.round(2)\n",
    "\n",
    "# Rename the names of the columns\n",
    "daily_timeseries.columns = [\"temp_sensor\", \"pH_sensor\", \"ec_sensor\", \"O2C_sensor\"]\n",
    "daily_timeseries = daily_timeseries.loc[\"1981\":\"2020\"]\n",
    "\n",
    "daily_timeseries.to_csv(PATH_OUTPUT + \"\\\\daily\\CAMELS_CH_Chem_daily_\"+namestation+\".csv\", encoding='latin')\n",
    "\n",
    "daily_timeseries"
   ]
  },
  {
   "cell_type": "code",
   "execution_count": 48,
   "id": "6b41402a",
   "metadata": {},
   "outputs": [
    {
     "data": {
      "text/plain": [
       "temperature(°C)         float64\n",
       "pH(-)                   float64\n",
       "electric_cond(µS/cm)    float64\n",
       "oxygen_conc(mg/l)       float64\n",
       "dtype: object"
      ]
     },
     "execution_count": 48,
     "metadata": {},
     "output_type": "execute_result"
    }
   ],
   "source": [
    "hourly_timeseries.dtypes"
   ]
  },
  {
   "cell_type": "markdown",
   "id": "3d77a783",
   "metadata": {},
   "source": [
    "- Remarks\n",
    "\n",
    "    - 87 stations from BAFU in inverntarlist \n",
    "\n",
    "    - 2190, 2424 and 2425 are included here, but not in the internarlist (they are in observation as if they are from other stations) (moved to another folder)\n",
    "\n",
    "    - 2403, Tages but not Stunden.\n",
    "\n",
    "    - 2243 (repetition? of 2622) (moved to another folder)\n",
    "    \n",
    "    - We need to merge 2622 into 2243."
   ]
  },
  {
   "cell_type": "code",
   "execution_count": 66,
   "id": "b9eac7bd",
   "metadata": {},
   "outputs": [
    {
     "data": {
      "text/html": [
       "<div>\n",
       "<style scoped>\n",
       "    .dataframe tbody tr th:only-of-type {\n",
       "        vertical-align: middle;\n",
       "    }\n",
       "\n",
       "    .dataframe tbody tr th {\n",
       "        vertical-align: top;\n",
       "    }\n",
       "\n",
       "    .dataframe thead th {\n",
       "        text-align: right;\n",
       "    }\n",
       "</style>\n",
       "<table border=\"1\" class=\"dataframe\">\n",
       "  <thead>\n",
       "    <tr style=\"text-align: right;\">\n",
       "      <th></th>\n",
       "      <th>temp_sensor</th>\n",
       "      <th>pH_sensor</th>\n",
       "      <th>ec_sensor</th>\n",
       "      <th>O2C_sensor</th>\n",
       "    </tr>\n",
       "    <tr>\n",
       "      <th>date</th>\n",
       "      <th></th>\n",
       "      <th></th>\n",
       "      <th></th>\n",
       "      <th></th>\n",
       "    </tr>\n",
       "  </thead>\n",
       "  <tbody>\n",
       "    <tr>\n",
       "      <th>1981-01-01</th>\n",
       "      <td>4.4</td>\n",
       "      <td>7.70</td>\n",
       "      <td>303.8</td>\n",
       "      <td>9.35</td>\n",
       "    </tr>\n",
       "    <tr>\n",
       "      <th>1981-01-02</th>\n",
       "      <td>4.4</td>\n",
       "      <td>7.71</td>\n",
       "      <td>308.5</td>\n",
       "      <td>9.37</td>\n",
       "    </tr>\n",
       "    <tr>\n",
       "      <th>1981-01-03</th>\n",
       "      <td>4.5</td>\n",
       "      <td>7.70</td>\n",
       "      <td>336.3</td>\n",
       "      <td>9.24</td>\n",
       "    </tr>\n",
       "    <tr>\n",
       "      <th>1981-01-04</th>\n",
       "      <td>4.9</td>\n",
       "      <td>7.74</td>\n",
       "      <td>329.8</td>\n",
       "      <td>9.62</td>\n",
       "    </tr>\n",
       "    <tr>\n",
       "      <th>1981-01-05</th>\n",
       "      <td>4.1</td>\n",
       "      <td>7.80</td>\n",
       "      <td>302.1</td>\n",
       "      <td>10.34</td>\n",
       "    </tr>\n",
       "    <tr>\n",
       "      <th>...</th>\n",
       "      <td>...</td>\n",
       "      <td>...</td>\n",
       "      <td>...</td>\n",
       "      <td>...</td>\n",
       "    </tr>\n",
       "    <tr>\n",
       "      <th>2020-12-27</th>\n",
       "      <td>NaN</td>\n",
       "      <td>NaN</td>\n",
       "      <td>NaN</td>\n",
       "      <td>NaN</td>\n",
       "    </tr>\n",
       "    <tr>\n",
       "      <th>2020-12-28</th>\n",
       "      <td>NaN</td>\n",
       "      <td>NaN</td>\n",
       "      <td>NaN</td>\n",
       "      <td>NaN</td>\n",
       "    </tr>\n",
       "    <tr>\n",
       "      <th>2020-12-29</th>\n",
       "      <td>NaN</td>\n",
       "      <td>NaN</td>\n",
       "      <td>NaN</td>\n",
       "      <td>NaN</td>\n",
       "    </tr>\n",
       "    <tr>\n",
       "      <th>2020-12-30</th>\n",
       "      <td>NaN</td>\n",
       "      <td>NaN</td>\n",
       "      <td>NaN</td>\n",
       "      <td>NaN</td>\n",
       "    </tr>\n",
       "    <tr>\n",
       "      <th>2020-12-31</th>\n",
       "      <td>NaN</td>\n",
       "      <td>NaN</td>\n",
       "      <td>NaN</td>\n",
       "      <td>NaN</td>\n",
       "    </tr>\n",
       "  </tbody>\n",
       "</table>\n",
       "<p>14610 rows × 4 columns</p>\n",
       "</div>"
      ],
      "text/plain": [
       "            temp_sensor  pH_sensor  ec_sensor  O2C_sensor\n",
       "date                                                     \n",
       "1981-01-01          4.4       7.70      303.8        9.35\n",
       "1981-01-02          4.4       7.71      308.5        9.37\n",
       "1981-01-03          4.5       7.70      336.3        9.24\n",
       "1981-01-04          4.9       7.74      329.8        9.62\n",
       "1981-01-05          4.1       7.80      302.1       10.34\n",
       "...                 ...        ...        ...         ...\n",
       "2020-12-27          NaN        NaN        NaN         NaN\n",
       "2020-12-28          NaN        NaN        NaN         NaN\n",
       "2020-12-29          NaN        NaN        NaN         NaN\n",
       "2020-12-30          NaN        NaN        NaN         NaN\n",
       "2020-12-31          NaN        NaN        NaN         NaN\n",
       "\n",
       "[14610 rows x 4 columns]"
      ]
     },
     "execution_count": 66,
     "metadata": {},
     "output_type": "execute_result"
    }
   ],
   "source": [
    "# Merging 2622 into 2243\n",
    "bafu_2622_daily = pd.read_csv(r\"results\\\\stream_water_chemistry\\\\timeseries\\daily\\2424_2343_2622\\CAMELS_CH_chem_daily_2622.csv\", encoding='latin')\n",
    "bafu_2622_daily.set_index(\"date\", inplace=True)\n",
    "bafu_2622_daily"
   ]
  },
  {
   "cell_type": "code",
   "execution_count": 67,
   "id": "41d4c54e",
   "metadata": {},
   "outputs": [
    {
     "data": {
      "text/html": [
       "<div>\n",
       "<style scoped>\n",
       "    .dataframe tbody tr th:only-of-type {\n",
       "        vertical-align: middle;\n",
       "    }\n",
       "\n",
       "    .dataframe tbody tr th {\n",
       "        vertical-align: top;\n",
       "    }\n",
       "\n",
       "    .dataframe thead th {\n",
       "        text-align: right;\n",
       "    }\n",
       "</style>\n",
       "<table border=\"1\" class=\"dataframe\">\n",
       "  <thead>\n",
       "    <tr style=\"text-align: right;\">\n",
       "      <th></th>\n",
       "      <th>temp_sensor</th>\n",
       "      <th>pH_sensor</th>\n",
       "      <th>ec_sensor</th>\n",
       "      <th>O2C_sensor</th>\n",
       "    </tr>\n",
       "    <tr>\n",
       "      <th>date</th>\n",
       "      <th></th>\n",
       "      <th></th>\n",
       "      <th></th>\n",
       "      <th></th>\n",
       "    </tr>\n",
       "  </thead>\n",
       "  <tbody>\n",
       "    <tr>\n",
       "      <th>1981-01-01</th>\n",
       "      <td>4.40</td>\n",
       "      <td>NaN</td>\n",
       "      <td>NaN</td>\n",
       "      <td>NaN</td>\n",
       "    </tr>\n",
       "    <tr>\n",
       "      <th>1981-01-02</th>\n",
       "      <td>4.40</td>\n",
       "      <td>NaN</td>\n",
       "      <td>NaN</td>\n",
       "      <td>NaN</td>\n",
       "    </tr>\n",
       "    <tr>\n",
       "      <th>1981-01-03</th>\n",
       "      <td>4.50</td>\n",
       "      <td>NaN</td>\n",
       "      <td>NaN</td>\n",
       "      <td>NaN</td>\n",
       "    </tr>\n",
       "    <tr>\n",
       "      <th>1981-01-04</th>\n",
       "      <td>4.90</td>\n",
       "      <td>NaN</td>\n",
       "      <td>NaN</td>\n",
       "      <td>NaN</td>\n",
       "    </tr>\n",
       "    <tr>\n",
       "      <th>1981-01-05</th>\n",
       "      <td>4.10</td>\n",
       "      <td>NaN</td>\n",
       "      <td>NaN</td>\n",
       "      <td>NaN</td>\n",
       "    </tr>\n",
       "    <tr>\n",
       "      <th>...</th>\n",
       "      <td>...</td>\n",
       "      <td>...</td>\n",
       "      <td>...</td>\n",
       "      <td>...</td>\n",
       "    </tr>\n",
       "    <tr>\n",
       "      <th>2020-12-27</th>\n",
       "      <td>6.42</td>\n",
       "      <td>NaN</td>\n",
       "      <td>NaN</td>\n",
       "      <td>NaN</td>\n",
       "    </tr>\n",
       "    <tr>\n",
       "      <th>2020-12-28</th>\n",
       "      <td>6.53</td>\n",
       "      <td>NaN</td>\n",
       "      <td>NaN</td>\n",
       "      <td>NaN</td>\n",
       "    </tr>\n",
       "    <tr>\n",
       "      <th>2020-12-29</th>\n",
       "      <td>6.47</td>\n",
       "      <td>NaN</td>\n",
       "      <td>NaN</td>\n",
       "      <td>NaN</td>\n",
       "    </tr>\n",
       "    <tr>\n",
       "      <th>2020-12-30</th>\n",
       "      <td>6.55</td>\n",
       "      <td>NaN</td>\n",
       "      <td>NaN</td>\n",
       "      <td>NaN</td>\n",
       "    </tr>\n",
       "    <tr>\n",
       "      <th>2020-12-31</th>\n",
       "      <td>6.50</td>\n",
       "      <td>NaN</td>\n",
       "      <td>NaN</td>\n",
       "      <td>NaN</td>\n",
       "    </tr>\n",
       "  </tbody>\n",
       "</table>\n",
       "<p>14610 rows × 4 columns</p>\n",
       "</div>"
      ],
      "text/plain": [
       "            temp_sensor  pH_sensor  ec_sensor  O2C_sensor\n",
       "date                                                     \n",
       "1981-01-01         4.40        NaN        NaN         NaN\n",
       "1981-01-02         4.40        NaN        NaN         NaN\n",
       "1981-01-03         4.50        NaN        NaN         NaN\n",
       "1981-01-04         4.90        NaN        NaN         NaN\n",
       "1981-01-05         4.10        NaN        NaN         NaN\n",
       "...                 ...        ...        ...         ...\n",
       "2020-12-27         6.42        NaN        NaN         NaN\n",
       "2020-12-28         6.53        NaN        NaN         NaN\n",
       "2020-12-29         6.47        NaN        NaN         NaN\n",
       "2020-12-30         6.55        NaN        NaN         NaN\n",
       "2020-12-31         6.50        NaN        NaN         NaN\n",
       "\n",
       "[14610 rows x 4 columns]"
      ]
     },
     "execution_count": 67,
     "metadata": {},
     "output_type": "execute_result"
    }
   ],
   "source": [
    "# Merging 2622 into 2243\n",
    "bafu_2243_daily = pd.read_csv(r\"results\\\\stream_water_chemistry\\\\timeseries\\daily/CAMELS_CH_chem_daily_2243.csv\", encoding='latin')\n",
    "bafu_2243_daily.set_index(\"date\", inplace=True)\n",
    "bafu_2243_daily"
   ]
  },
  {
   "cell_type": "code",
   "execution_count": 53,
   "id": "36772196",
   "metadata": {},
   "outputs": [
    {
     "data": {
      "text/plain": [
       "<AxesSubplot:xlabel='date'>"
      ]
     },
     "execution_count": 53,
     "metadata": {},
     "output_type": "execute_result"
    },
    {
     "data": {
      "image/png": "[encoded data removed]",
      "text/plain": [
       "<Figure size 432x288 with 1 Axes>"
      ]
     },
     "metadata": {
      "needs_background": "light"
     },
     "output_type": "display_data"
    }
   ],
   "source": [
    "bafu_2243_daily[\"temp_sensor\"].plot()\n",
    "bafu_2622_daily[\"temp_sensor\"].plot()"
   ]
  },
  {
   "cell_type": "code",
   "execution_count": null,
   "id": "10ca4f83",
   "metadata": {},
   "outputs": [],
   "source": [
    "bafu_2243_daily[\"temp_sensor\"].plot()\n",
    "bafu_2622_daily[\"temp_sensor\"].plot()"
   ]
  },
  {
   "cell_type": "code",
   "execution_count": 41,
   "id": "de0bbed9",
   "metadata": {},
   "outputs": [],
   "source": [
    "bafu_2243_daily[\"ph\"][bafu_2243_daily.ph<=2] = np.nan"
   ]
  },
  {
   "cell_type": "code",
   "execution_count": 56,
   "id": "7235faf4",
   "metadata": {},
   "outputs": [
    {
     "data": {
      "text/plain": [
       "<AxesSubplot:xlabel='date'>"
      ]
     },
     "execution_count": 56,
     "metadata": {},
     "output_type": "execute_result"
    },
    {
     "data": {
      "image/png": "[encoded data removed]",
      "text/plain": [
       "<Figure size 432x288 with 1 Axes>"
      ]
     },
     "metadata": {
      "needs_background": "light"
     },
     "output_type": "display_data"
    }
   ],
   "source": [
    "bafu_2243_daily[\"pH_sensor\"].plot()\n",
    "bafu_2622_daily[\"pH_sensor\"].plot()"
   ]
  },
  {
   "cell_type": "code",
   "execution_count": 58,
   "id": "c8c30aee",
   "metadata": {},
   "outputs": [
    {
     "data": {
      "text/plain": [
       "<AxesSubplot:xlabel='date'>"
      ]
     },
     "execution_count": 58,
     "metadata": {},
     "output_type": "execute_result"
    },
    {
     "data": {
      "image/png": "[encoded data removed]",
      "text/plain": [
       "<Figure size 432x288 with 1 Axes>"
      ]
     },
     "metadata": {
      "needs_background": "light"
     },
     "output_type": "display_data"
    }
   ],
   "source": [
    "bafu_2243_daily[\"ec_sensor\"].plot()\n",
    "bafu_2622_daily[\"ec_sensor\"].plot()"
   ]
  },
  {
   "cell_type": "code",
   "execution_count": 29,
   "id": "58f48a9e",
   "metadata": {},
   "outputs": [
    {
     "data": {
      "text/plain": [
       "<AxesSubplot:xlabel='date'>"
      ]
     },
     "execution_count": 29,
     "metadata": {},
     "output_type": "execute_result"
    },
    {
     "data": {
      "image/png": "[encoded data removed]",
      "text/plain": [
       "<Figure size 432x288 with 1 Axes>"
      ]
     },
     "metadata": {
      "needs_background": "light"
     },
     "output_type": "display_data"
    }
   ],
   "source": [
    "bafu_2243_daily[\"o\"].plot()\n",
    "#bafu_2622_daily[\"o\"].plot()"
   ]
  },
  {
   "cell_type": "markdown",
   "id": "1e70f117",
   "metadata": {},
   "source": [
    "2243 is merged with data from 2622:"
   ]
  },
  {
   "cell_type": "code",
   "execution_count": 68,
   "id": "e3c82c91",
   "metadata": {},
   "outputs": [],
   "source": [
    "bafu_2243_daily[\"ec_sensor\"] = bafu_2622_daily[\"ec_sensor\"]\n",
    "\n",
    "bafu_2243_daily[\"pH_sensor\"] = bafu_2622_daily[\"pH_sensor\"]\n",
    "bafu_2243_daily[\"O2C_sensor\"] = bafu_2622_daily[\"O2C_sensor\"]\n"
   ]
  },
  {
   "cell_type": "code",
   "execution_count": 61,
   "id": "52a89840",
   "metadata": {},
   "outputs": [
    {
     "data": {
      "text/plain": [
       "<AxesSubplot:xlabel='date'>"
      ]
     },
     "execution_count": 61,
     "metadata": {},
     "output_type": "execute_result"
    },
    {
     "data": {
      "image/png": "[encoded data removed]",
      "text/plain": [
       "<Figure size 432x288 with 1 Axes>"
      ]
     },
     "metadata": {
      "needs_background": "light"
     },
     "output_type": "display_data"
    }
   ],
   "source": [
    "bafu_2243_daily[\"ec_sensor\"].plot()\n",
    "#bafu_2622_daily[\"ec_sensor\"].plot()"
   ]
  },
  {
   "cell_type": "code",
   "execution_count": 69,
   "id": "60bd6e9c",
   "metadata": {},
   "outputs": [],
   "source": [
    "bafu_2243_daily.to_csv(r\"results\\\\stream_water_chemistry\\\\timeseries\\daily/CAMELS_CH_chem_daily_2243.csv\", encoding='latin')"
   ]
  },
  {
   "cell_type": "markdown",
   "id": "b608e26e",
   "metadata": {},
   "source": [
    "# End"
   ]
  }
 ],
 "metadata": {
  "kernelspec": {
   "display_name": "geopandas",
   "language": "python",
   "name": "python3"
  },
  "language_info": {
   "codemirror_mode": {
    "name": "ipython",
    "version": 3
   },
   "file_extension": ".py",
   "mimetype": "text/x-python",
   "name": "python",
   "nbconvert_exporter": "python",
   "pygments_lexer": "ipython3",
   "version": "3.10.2"
  }
 },
 "nbformat": 4,
 "nbformat_minor": 5
}
